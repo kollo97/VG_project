{
 "cells": [
  {
   "cell_type": "code",
   "execution_count": 1,
   "metadata": {},
   "outputs": [],
   "source": [
    "import pandas as pd\n",
    "import numpy as np\n",
    "import matplotlib.pyplot as plt \n",
    "import matplotlib.colors as colors\n",
    "import seaborn as sn"
   ]
  },
  {
   "attachments": {},
   "cell_type": "markdown",
   "metadata": {},
   "source": [
    "# load data"
   ]
  },
  {
   "cell_type": "code",
   "execution_count": 2,
   "metadata": {},
   "outputs": [
    {
     "data": {
      "text/html": [
       "<div>\n",
       "<style scoped>\n",
       "    .dataframe tbody tr th:only-of-type {\n",
       "        vertical-align: middle;\n",
       "    }\n",
       "\n",
       "    .dataframe tbody tr th {\n",
       "        vertical-align: top;\n",
       "    }\n",
       "\n",
       "    .dataframe thead th {\n",
       "        text-align: right;\n",
       "    }\n",
       "</style>\n",
       "<table border=\"1\" class=\"dataframe\">\n",
       "  <thead>\n",
       "    <tr style=\"text-align: right;\">\n",
       "      <th></th>\n",
       "      <th>tissue</th>\n",
       "      <th>rmse_train</th>\n",
       "      <th>rmse_test</th>\n",
       "      <th>rmse_eqtl</th>\n",
       "      <th>pearson_train</th>\n",
       "      <th>pearson_test</th>\n",
       "      <th>pearson_eqtl</th>\n",
       "      <th>num_ae_values</th>\n",
       "      <th>num_predicted_values</th>\n",
       "      <th>num_eqtl_predicted_values</th>\n",
       "    </tr>\n",
       "  </thead>\n",
       "  <tbody>\n",
       "    <tr>\n",
       "      <th>6</th>\n",
       "      <td>BRNSPC</td>\n",
       "      <td>0.692836</td>\n",
       "      <td>1.057638</td>\n",
       "      <td>0.926598</td>\n",
       "      <td>0.878373</td>\n",
       "      <td>0.568297</td>\n",
       "      <td>0.743193</td>\n",
       "      <td>1180</td>\n",
       "      <td>2561</td>\n",
       "      <td>3205</td>\n",
       "    </tr>\n",
       "    <tr>\n",
       "      <th>7</th>\n",
       "      <td>LIVER</td>\n",
       "      <td>0.690014</td>\n",
       "      <td>0.971068</td>\n",
       "      <td>1.010824</td>\n",
       "      <td>0.873805</td>\n",
       "      <td>0.732457</td>\n",
       "      <td>0.712832</td>\n",
       "      <td>3417</td>\n",
       "      <td>5246</td>\n",
       "      <td>6027</td>\n",
       "    </tr>\n",
       "    <tr>\n",
       "      <th>4</th>\n",
       "      <td>BRNSNG</td>\n",
       "      <td>0.824291</td>\n",
       "      <td>1.124893</td>\n",
       "      <td>1.016156</td>\n",
       "      <td>0.851643</td>\n",
       "      <td>0.623237</td>\n",
       "      <td>0.693825</td>\n",
       "      <td>922</td>\n",
       "      <td>1866</td>\n",
       "      <td>2328</td>\n",
       "    </tr>\n",
       "    <tr>\n",
       "      <th>47</th>\n",
       "      <td>LCL</td>\n",
       "      <td>0.692422</td>\n",
       "      <td>1.053610</td>\n",
       "      <td>1.033033</td>\n",
       "      <td>0.882821</td>\n",
       "      <td>0.665639</td>\n",
       "      <td>0.715876</td>\n",
       "      <td>3906</td>\n",
       "      <td>5496</td>\n",
       "      <td>6174</td>\n",
       "    </tr>\n",
       "    <tr>\n",
       "      <th>38</th>\n",
       "      <td>ADRNLG</td>\n",
       "      <td>0.697629</td>\n",
       "      <td>1.020675</td>\n",
       "      <td>1.067232</td>\n",
       "      <td>0.865248</td>\n",
       "      <td>0.685128</td>\n",
       "      <td>0.705127</td>\n",
       "      <td>5076</td>\n",
       "      <td>7665</td>\n",
       "      <td>8878</td>\n",
       "    </tr>\n",
       "    <tr>\n",
       "      <th>26</th>\n",
       "      <td>OVARY</td>\n",
       "      <td>0.700634</td>\n",
       "      <td>1.116413</td>\n",
       "      <td>1.083108</td>\n",
       "      <td>0.867301</td>\n",
       "      <td>0.582188</td>\n",
       "      <td>0.639601</td>\n",
       "      <td>4085</td>\n",
       "      <td>5607</td>\n",
       "      <td>6420</td>\n",
       "    </tr>\n",
       "    <tr>\n",
       "      <th>42</th>\n",
       "      <td>BRNAMY</td>\n",
       "      <td>0.758959</td>\n",
       "      <td>1.051224</td>\n",
       "      <td>1.092886</td>\n",
       "      <td>0.832208</td>\n",
       "      <td>0.487693</td>\n",
       "      <td>0.546359</td>\n",
       "      <td>1403</td>\n",
       "      <td>2528</td>\n",
       "      <td>3085</td>\n",
       "    </tr>\n",
       "    <tr>\n",
       "      <th>29</th>\n",
       "      <td>BRNCHB</td>\n",
       "      <td>0.724370</td>\n",
       "      <td>1.097957</td>\n",
       "      <td>1.106152</td>\n",
       "      <td>0.839594</td>\n",
       "      <td>0.608160</td>\n",
       "      <td>0.622896</td>\n",
       "      <td>4585</td>\n",
       "      <td>7385</td>\n",
       "      <td>8684</td>\n",
       "    </tr>\n",
       "    <tr>\n",
       "      <th>34</th>\n",
       "      <td>SPLEEN</td>\n",
       "      <td>0.709147</td>\n",
       "      <td>0.948228</td>\n",
       "      <td>1.112243</td>\n",
       "      <td>0.847365</td>\n",
       "      <td>0.665384</td>\n",
       "      <td>0.653452</td>\n",
       "      <td>5069</td>\n",
       "      <td>7628</td>\n",
       "      <td>8902</td>\n",
       "    </tr>\n",
       "    <tr>\n",
       "      <th>19</th>\n",
       "      <td>BRNCDT</td>\n",
       "      <td>0.700544</td>\n",
       "      <td>1.020657</td>\n",
       "      <td>1.139327</td>\n",
       "      <td>0.842717</td>\n",
       "      <td>0.569146</td>\n",
       "      <td>0.565958</td>\n",
       "      <td>4061</td>\n",
       "      <td>6551</td>\n",
       "      <td>7771</td>\n",
       "    </tr>\n",
       "  </tbody>\n",
       "</table>\n",
       "</div>"
      ],
      "text/plain": [
       "    tissue  rmse_train  rmse_test  rmse_eqtl  pearson_train  pearson_test  \\\n",
       "6   BRNSPC    0.692836   1.057638   0.926598       0.878373      0.568297   \n",
       "7    LIVER    0.690014   0.971068   1.010824       0.873805      0.732457   \n",
       "4   BRNSNG    0.824291   1.124893   1.016156       0.851643      0.623237   \n",
       "47     LCL    0.692422   1.053610   1.033033       0.882821      0.665639   \n",
       "38  ADRNLG    0.697629   1.020675   1.067232       0.865248      0.685128   \n",
       "26   OVARY    0.700634   1.116413   1.083108       0.867301      0.582188   \n",
       "42  BRNAMY    0.758959   1.051224   1.092886       0.832208      0.487693   \n",
       "29  BRNCHB    0.724370   1.097957   1.106152       0.839594      0.608160   \n",
       "34  SPLEEN    0.709147   0.948228   1.112243       0.847365      0.665384   \n",
       "19  BRNCDT    0.700544   1.020657   1.139327       0.842717      0.569146   \n",
       "\n",
       "    pearson_eqtl  num_ae_values  num_predicted_values  \\\n",
       "6       0.743193           1180                  2561   \n",
       "7       0.712832           3417                  5246   \n",
       "4       0.693825            922                  1866   \n",
       "47      0.715876           3906                  5496   \n",
       "38      0.705127           5076                  7665   \n",
       "26      0.639601           4085                  5607   \n",
       "42      0.546359           1403                  2528   \n",
       "29      0.622896           4585                  7385   \n",
       "34      0.653452           5069                  7628   \n",
       "19      0.565958           4061                  6551   \n",
       "\n",
       "    num_eqtl_predicted_values  \n",
       "6                        3205  \n",
       "7                        6027  \n",
       "4                        2328  \n",
       "47                       6174  \n",
       "38                       8878  \n",
       "26                       6420  \n",
       "42                       3085  \n",
       "29                       8684  \n",
       "34                       8902  \n",
       "19                       7771  "
      ]
     },
     "execution_count": 2,
     "metadata": {},
     "output_type": "execute_result"
    }
   ],
   "source": [
    "df = pd.read_csv(r'data\\summary_df.tsv', sep='\\t')\n",
    "#num_predicted_values is already the sum of the predicted+original_ae_values \n",
    "df.sort_values(by='rmse_eqtl', ascending=True).head(10)"
   ]
  },
  {
   "attachments": {},
   "cell_type": "markdown",
   "metadata": {},
   "source": [
    "# Number of predicted values"
   ]
  },
  {
   "cell_type": "code",
   "execution_count": 4,
   "metadata": {},
   "outputs": [
    {
     "name": "stdout",
     "output_type": "stream",
     "text": [
      "156.79953820204034 2659.9375 0.9746052163056681\n"
     ]
    }
   ],
   "source": [
    "ratio = df['num_predicted_values']/df['num_ae_values']*100\n",
    "total = df['num_predicted_values'] - df['num_ae_values']\n",
    "print(np.mean(ratio), np.mean(total), np.mean(df.rmse_test))"
   ]
  },
  {
   "attachments": {},
   "cell_type": "markdown",
   "metadata": {},
   "source": [
    "## Fig. 6"
   ]
  },
  {
   "cell_type": "code",
   "execution_count": 9,
   "metadata": {},
   "outputs": [
    {
     "data": {
      "image/png": "[encoded data removed]",
      "text/plain": [
       "<Figure size 1296x720 with 1 Axes>"
      ]
     },
     "metadata": {
      "needs_background": "light"
     },
     "output_type": "display_data"
    },
    {
     "name": "stdout",
     "output_type": "stream",
     "text": [
      "   tissue  num_ae_values\n",
      "4  BRNSNG            922\n",
      "     tissue  num_ae_values\n",
      "17  THYROID           8257\n"
     ]
    }
   ],
   "source": [
    "df = df.sort_values(by='num_ae_values',ascending=True)\n",
    "fig, ax = plt.subplots(1,1,figsize = (18,10))# \n",
    "barwidth = 0.4\n",
    "ax.bar(df.tissue, df.num_ae_values, width=barwidth, label='Original calculated AE-VG values')\n",
    "ax.bar([i+ barwidth for i in np.arange(len(df.tissue))], df.num_predicted_values, width=barwidth, label='Predicted values')\n",
    "plt.xticks(rotation=45, fontsize = 12, ha='right')\n",
    "plt.yticks(fontsize=12)\n",
    "ax.set_xlabel('Tissue', fontsize=12)\n",
    "ax.set_ylabel('Number of values', fontsize=12)\n",
    "plt.grid(axis='y', color='grey', alpha=0.3)\n",
    "plt.legend(fontsize=12)\n",
    "# plt.savefig(r'datacollection\\images\\final_report\\number_of_values_per_tissue.png', dpi = 600)\n",
    "\n",
    "# plt.savefig(r'datacollection\\images\\final_report\\number_of_values_per_tissue_test.svg', dpi = 96,bbox_inches='tight')\n",
    "plt.show()\n",
    "print(df.loc[df['num_ae_values']==np.min(df.num_ae_values),['tissue', 'num_ae_values']])\n",
    "print(df.loc[df['num_ae_values']==np.max(df.num_ae_values),['tissue', 'num_ae_values']])\n",
    "\n"
   ]
  },
  {
   "attachments": {},
   "cell_type": "markdown",
   "metadata": {},
   "source": [
    "# correlation of dataset size with Root Mean Squared Error (RMSE) of predictions"
   ]
  },
  {
   "attachments": {},
   "cell_type": "markdown",
   "metadata": {},
   "source": [
    "## Fig. 7A"
   ]
  },
  {
   "cell_type": "code",
   "execution_count": null,
   "metadata": {},
   "outputs": [],
   "source": [
    "perf_metrics = df.columns[1:4] \n",
    "# means = [np.mean(df[i]) for i in df[perf_metrics]]\n",
    "data = df[perf_metrics]\n",
    "fig, ax = plt.subplots(1,1, figsize = (6,6))\n",
    "p = sn.barplot(data=data, estimator='mean' , ax = ax, errorbar='se', color='#1f77b4')\n",
    "plt.xticks(fontsize = 12, ha='center')\n",
    "plt.yticks(fontsize=12)\n",
    "# ax.set_xlabel('metric', fontsize = 12)\n",
    "ax.set_ylabel('mean',fontsize = 12)\n",
    "plt.grid(axis='y', color='grey', alpha=0.2)\n",
    "\n",
    "# plt.savefig(r'datacollection\\images\\final_report\\mean_performances.png', dpi = 600)\n",
    "# plt.savefig(r'datacollection\\images\\final_report\\mean_performances.svg', dpi = 96,bbox_inches='tight')\n",
    "\n",
    "plt.show()\n",
    "sems = [np.std(data[i], ddof=1) / np.sqrt(np.size(data[i])) for i in data.columns]\n",
    "for i,v in enumerate(sems):\n",
    "    print('SEM ',data.columns[i], ': ', v)\n"
   ]
  },
  {
   "attachments": {},
   "cell_type": "markdown",
   "metadata": {},
   "source": [
    "## Fig. 7B\n"
   ]
  },
  {
   "cell_type": "code",
   "execution_count": 3,
   "metadata": {},
   "outputs": [
    {
     "name": "stdout",
     "output_type": "stream",
     "text": [
      "(-0.8133604828173919, 2.145949820269869e-12)\n"
     ]
    },
    {
     "data": {
      "image/png": "[encoded data removed]",
      "text/plain": [
       "<Figure size 432x288 with 1 Axes>"
      ]
     },
     "metadata": {
      "needs_background": "light"
     },
     "output_type": "display_data"
    }
   ],
   "source": [
    "plt.scatter(df.num_ae_values,df.rmse_test, color = 'green', label='RMSE test set')\n",
    "plt.scatter(df.num_ae_values,df.rmse_train, color = 'red', label='RMSE train set')\n",
    "# plt.scatter(df.num_ae_values,df.rmse_eqtl, color = 'blue', label='RMSE eQTL')\n",
    "plt.xlabel('number of available AE-VG values ')\n",
    "plt.ylabel('RMSE')\n",
    "plt.legend()\n",
    "# plt.savefig(r'datacollection\\images\\final_report\\RMSE_vs_number_values.png', dpi = 300)\n",
    "# plt.savefig(r'datacollection\\images\\final_report\\RMSE_vs_number_values.svg', dpi = 96,bbox_inches='tight')\n",
    "from scipy.stats import pearsonr\n",
    "print(pearsonr(df.num_ae_values,df.rmse_test))\n",
    "plt.show()"
   ]
  },
  {
   "cell_type": "code",
   "execution_count": null,
   "metadata": {},
   "outputs": [
    {
     "name": "stdout",
     "output_type": "stream",
     "text": [
      "[('rmse_train', 0.7080839243785952), ('rmse_test', 0.974605216305668), ('rmse_eqtl', 1.3476095724777375)]\n"
     ]
    }
   ],
   "source": [
    "# perf_metrics = df.columns[1:4] \n",
    "means = [np.mean(df[i]) for i in df[perf_metrics]]\n",
    "print([(i,j) for (i,j) in zip(perf_metrics, means) ])"
   ]
  }
 ],
 "metadata": {
  "kernelspec": {
   "display_name": "master1",
   "language": "python",
   "name": "python3"
  },
  "language_info": {
   "codemirror_mode": {
    "name": "ipython",
    "version": 3
   },
   "file_extension": ".py",
   "mimetype": "text/x-python",
   "name": "python",
   "nbconvert_exporter": "python",
   "pygments_lexer": "ipython3",
   "version": "3.9.12 (main, Apr  4 2022, 05:22:27) [MSC v.1916 64 bit (AMD64)]"
  },
  "orig_nbformat": 4,
  "vscode": {
   "interpreter": {
    "hash": "5cd52bbe338ca48d7536857185867b16c00a4109a2e414bb2eb83b6e724decb5"
   }
  }
 },
 "nbformat": 4,
 "nbformat_minor": 2
}
